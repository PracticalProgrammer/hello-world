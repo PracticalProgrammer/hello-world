{
  "nbformat": 4,
  "nbformat_minor": 0,
  "metadata": {
    "colab": {
      "name": "FirstWebscraper.ipynb",
      "version": "0.3.2",
      "provenance": [],
      "include_colab_link": true
    },
    "kernelspec": {
      "name": "python3",
      "display_name": "Python 3"
    }
  },
  "cells": [
    {
      "cell_type": "markdown",
      "metadata": {
        "id": "view-in-github",
        "colab_type": "text"
      },
      "source": [
        "<a href=\"https://colab.research.google.com/github/PracticalProgrammer/hello-world/blob/master/FirstWebscraper.ipynb\" target=\"_parent\"><img src=\"https://colab.research.google.com/assets/colab-badge.svg\" alt=\"Open In Colab\"/></a>"
      ]
    },
    {
      "cell_type": "code",
      "metadata": {
        "id": "wG0fXK9UsQU6",
        "colab_type": "code",
        "colab": {}
      },
      "source": [
        "import pandas as pd\n",
        "import numpy as np\n",
        "import requests\n",
        "from bs4 import BeautifulSoup\n",
        "\n",
        "\n",
        "\n"
      ],
      "execution_count": 0,
      "outputs": []
    },
    {
      "cell_type": "code",
      "metadata": {
        "id": "ycEjuuA5vG_y",
        "colab_type": "code",
        "colab": {
          "base_uri": "https://localhost:8080/",
          "height": 191
        },
        "outputId": "e45bb3d6-d902-486c-cec7-4cc9989394ed"
      },
      "source": [
        "page = requests.get('https://forecast.weather.gov/MapClick.php?lat=34.05349000000007&lon=-118.24531999999999#.XX1ekmlKg2w')\n",
        "soup = BeautifulSoup(page.content, 'html.parser')\n",
        "week = soup.find(id='seven-day-forecast-body')\n",
        "#print(soup)\n",
        "\n",
        "items = week.find_all(class_='tombstone-container')\n",
        "#print(items[0])\n",
        "\n",
        "#print(items[0].find(class_='period-name').get_text())\n",
        "#print(items[0].find(class_='short-desc').get_text())\n",
        "#print(items[0].find(class_='temp').get_text())\n",
        "\n",
        "period_names = [item.find(class_='period-name').get_text() for item in items]\n",
        "short_descriptions = [item.find(class_='short-desc').get_text() for item in items]\n",
        "temperatures = [item.find(class_='temp').get_text() for item in items]\n",
        "\n",
        "weather_stuff = pd.DataFrame(\n",
        "      {'period': period_names,\n",
        "      'short_descriptions': short_descriptions,\n",
        "      'temperatures': temperatures,\n",
        "      })\n",
        "print(weather_stuff)\n",
        "\n",
        "weather_stuff.to_csv('weather.csv')\n"
      ],
      "execution_count": 15,
      "outputs": [
        {
          "output_type": "stream",
          "text": [
            "          period          short_descriptions temperatures\n",
            "0  ThisAfternoon                       Sunny  High: 92 °F\n",
            "1        Tonight               Partly Cloudy   Low: 68 °F\n",
            "2         Sunday                Mostly Sunny  High: 87 °F\n",
            "3    SundayNight                  Patchy Fog   Low: 67 °F\n",
            "4         Monday  Patchy Fogthen MostlySunny  High: 81 °F\n",
            "5    MondayNight                  Patchy Fog   Low: 65 °F\n",
            "6        Tuesday        Patchy Fogthen Sunny  High: 81 °F\n",
            "7   TuesdayNight                  Patchy Fog   Low: 64 °F\n",
            "8      Wednesday        Patchy Fogthen Sunny  High: 81 °F\n"
          ],
          "name": "stdout"
        }
      ]
    }
  ]
}