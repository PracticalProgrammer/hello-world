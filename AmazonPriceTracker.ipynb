{
  "nbformat": 4,
  "nbformat_minor": 0,
  "metadata": {
    "colab": {
      "name": "AmazonPriceTracker.ipynb",
      "version": "0.3.2",
      "provenance": []
    },
    "kernelspec": {
      "name": "python3",
      "display_name": "Python 3"
    }
  },
  "cells": [
    {
      "cell_type": "code",
      "metadata": {
        "colab_type": "code",
        "outputId": "2fd02fa3-5b6b-4e1f-d685-f504a70398e8",
        "id": "mEsSSDSOqcdj",
        "colab": {
          "base_uri": "https://localhost:8080/",
          "height": 235
        }
      },
      "source": [
        "import requests\n",
        "from bs4 import BeautifulSoup\n",
        "import smtplib\n",
        "import time \n",
        "\n",
        "URL = 'https://www.amazon.com/XG49VQ-Curved-Gaming-FreeSync-Monitor/dp/B07PZR2YY4/ref=sr_1_10?keywords=Asus+Rog&qid=1568506508&s=electronics&sr=1-10'\n",
        "\n",
        "headers = {\n",
        "    \"User-Agent\": 'Mozilla/5.0 (Windows NT 10.0; Win64; x64) AppleWebKit/537.36 (KHTML, like Gecko) Chrome/77.0.3865.75 Safari/537.36'}\n",
        "\n",
        "def check_price():\n",
        "\n",
        "  page = requests.get(URL, headers = headers)\n",
        "\n",
        "  soup = BeautifulSoup(page.content, 'html.parser')\n",
        "  soup2 = BeautifulSoup(soup.prettify(), 'html.parser')\n",
        "  \n",
        "  title = soup2.find(id = \"productTitle\").get_text()\n",
        "  title = title.strip()\n",
        "  price = soup2.find(id = \"priceblock_ourprice\").get_text()\n",
        "  converted_price = float(price[1:])\n",
        "  \n",
        "  if(converted_price < 869.00):\n",
        "     send_mail()\n",
        "\n",
        "  print(converted_price)\n",
        "  print(title.strip())\n",
        "  \n",
        "  if(converted_price < 889.00):\n",
        "     send_mail()\n",
        "  \n",
        "def send_mail():\n",
        "  server = smtplib.SMTP('smtp.gmail.com', 587)\n",
        "  server.ehlo()\n",
        "  server.starttls()\n",
        "  server.ehlo()\n",
        "  server.login('youremail', 'yourpassword')\n",
        "  \n",
        "  subject = 'Price fell down!'\n",
        "  body = 'Check Out Link:', URL \n",
        "  \n",
        "  msg = f\"Subject: {subject}\\n\\n{body}\"\n",
        "  \n",
        "  server.sendmail('senderemail', \n",
        "                   'receiveremail', \n",
        "                   msg)\n",
        "  \n",
        "  print('HEY EMAIL HAS BEEN SENT!!')\n",
        "  \n",
        "  server.quit() \n",
        "  \n",
        "while(True):  \n",
        "    check_price()\n",
        "    time.sleep(84600)"
      ],
      "execution_count": 69,
      "outputs": [
        {
          "output_type": "stream",
          "text": [
            "899.0\n",
            "Asus ROG Strix XG49VQ 49” Curved Gaming FreeSync Monitor 144Hz Dual Full HD HDR Eye Care with DP HDMI\n"
          ],
          "name": "stdout"
        },
        {
          "output_type": "error",
          "ename": "KeyboardInterrupt",
          "evalue": "ignored",
          "traceback": [
            "\u001b[0;31m---------------------------------------------------------------------------\u001b[0m",
            "\u001b[0;31mKeyboardInterrupt\u001b[0m                         Traceback (most recent call last)",
            "\u001b[0;32m<ipython-input-69-f671c15795cf>\u001b[0m in \u001b[0;36m<module>\u001b[0;34m()\u001b[0m\n\u001b[1;32m     52\u001b[0m \u001b[0;32mwhile\u001b[0m\u001b[0;34m(\u001b[0m\u001b[0;32mTrue\u001b[0m\u001b[0;34m)\u001b[0m\u001b[0;34m:\u001b[0m\u001b[0;34m\u001b[0m\u001b[0;34m\u001b[0m\u001b[0m\n\u001b[1;32m     53\u001b[0m     \u001b[0mcheck_price\u001b[0m\u001b[0;34m(\u001b[0m\u001b[0;34m)\u001b[0m\u001b[0;34m\u001b[0m\u001b[0;34m\u001b[0m\u001b[0m\n\u001b[0;32m---> 54\u001b[0;31m     \u001b[0mtime\u001b[0m\u001b[0;34m.\u001b[0m\u001b[0msleep\u001b[0m\u001b[0;34m(\u001b[0m\u001b[0;36m84600\u001b[0m\u001b[0;34m)\u001b[0m\u001b[0;34m\u001b[0m\u001b[0;34m\u001b[0m\u001b[0m\n\u001b[0m",
            "\u001b[0;31mKeyboardInterrupt\u001b[0m: "
          ]
        }
      ]
    }
  ]
}